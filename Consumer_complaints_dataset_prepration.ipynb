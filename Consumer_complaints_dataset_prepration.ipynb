{
  "nbformat": 4,
  "nbformat_minor": 0,
  "metadata": {
    "colab": {
      "name": "Consumer complaints dataset prepration",
      "provenance": [],
      "collapsed_sections": [],
      "mount_file_id": "1_hTOMLO84QJG0DCJpknx-RqlkzgIVfvs",
      "authorship_tag": "ABX9TyOt0cVipMhQFCSg96UbqHvq",
      "include_colab_link": true
    },
    "kernelspec": {
      "name": "python3",
      "display_name": "Python 3"
    },
    "language_info": {
      "name": "python"
    }
  },
  "cells": [
    {
      "cell_type": "markdown",
      "metadata": {
        "id": "view-in-github",
        "colab_type": "text"
      },
      "source": [
        "<a href=\"https://colab.research.google.com/github/tarunmukku/citi-hackathon/blob/main/Consumer_complaints_dataset_prepration.ipynb\" target=\"_parent\"><img src=\"https://colab.research.google.com/assets/colab-badge.svg\" alt=\"Open In Colab\"/></a>"
      ]
    },
    {
      "cell_type": "code",
      "execution_count": 59,
      "metadata": {
        "id": "Jq1eqSqJWCpD"
      },
      "outputs": [],
      "source": [
        "import numpy as np\n",
        "import pandas as pd\n",
        "import matplotlib.pyplot as plt\n",
        "from google.colab import drive\n",
        "import matplotlib.image as mpimg"
      ]
    },
    {
      "cell_type": "code",
      "source": [
        "drive.mount('/content/gdrive')\n"
      ],
      "metadata": {
        "colab": {
          "base_uri": "https://localhost:8080/"
        },
        "id": "tsnEuJd_WzV9",
        "outputId": "986a6e4e-913c-40fe-bf63-b055f4be007e"
      },
      "execution_count": 60,
      "outputs": [
        {
          "output_type": "stream",
          "name": "stdout",
          "text": [
            "Drive already mounted at /content/gdrive; to attempt to forcibly remount, call drive.mount(\"/content/gdrive\", force_remount=True).\n"
          ]
        }
      ]
    },
    {
      "cell_type": "code",
      "source": [
        "!unzip -q '/content/gdrive/MyDrive/complaints.csv.zip'"
      ],
      "metadata": {
        "id": "Gn41tkswXKCV"
      },
      "execution_count": 3,
      "outputs": []
    },
    {
      "cell_type": "code",
      "source": [
        "df = pd.read_csv('/content/complaints.csv')"
      ],
      "metadata": {
        "colab": {
          "base_uri": "https://localhost:8080/"
        },
        "id": "nvGydX_Q-dIf",
        "outputId": "697fd968-788c-456c-e0b1-6c649e62644c"
      },
      "execution_count": 30,
      "outputs": [
        {
          "output_type": "stream",
          "name": "stderr",
          "text": [
            "/usr/local/lib/python3.7/dist-packages/IPython/core/interactiveshell.py:2882: DtypeWarning: Columns (9) have mixed types.Specify dtype option on import or set low_memory=False.\n",
            "  exec(code_obj, self.user_global_ns, self.user_ns)\n"
          ]
        }
      ]
    },
    {
      "cell_type": "code",
      "source": [
        "df.head()"
      ],
      "metadata": {
        "colab": {
          "base_uri": "https://localhost:8080/",
          "height": 206
        },
        "id": "NNhLAbVJ-kny",
        "outputId": "a1c1793e-840f-4a56-f4cf-bb95114a765b"
      },
      "execution_count": 62,
      "outputs": [
        {
          "output_type": "execute_result",
          "data": {
            "text/plain": [
              "                    Sub-product  \\\n",
              "0                  Medical debt   \n",
              "1                  Medical debt   \n",
              "2  Domestic (US) money transfer   \n",
              "3  Domestic (US) money transfer   \n",
              "4  Domestic (US) money transfer   \n",
              "\n",
              "                        Consumer complaint narrative  Complaint ID  word_count  \n",
              "0  I wrote a letter to AR Resources about a medic...       5312953         100  \n",
              "1  So, my wife and I have had our credit pulled t...       5303506         210  \n",
              "2  XX/XX/2022 - 4 XXXX transactions were made eac...       5405508         234  \n",
              "3  XXXX XXXX  Abuse My name is XXXX XXXX XXXX, a ...       5363397        2188  \n",
              "4  On XXXX, I sent a wire transfer in the amount ...       5349143         115  "
            ],
            "text/html": [
              "\n",
              "  <div id=\"df-ea38c882-80c1-48e0-993c-2d25edcf475a\">\n",
              "    <div class=\"colab-df-container\">\n",
              "      <div>\n",
              "<style scoped>\n",
              "    .dataframe tbody tr th:only-of-type {\n",
              "        vertical-align: middle;\n",
              "    }\n",
              "\n",
              "    .dataframe tbody tr th {\n",
              "        vertical-align: top;\n",
              "    }\n",
              "\n",
              "    .dataframe thead th {\n",
              "        text-align: right;\n",
              "    }\n",
              "</style>\n",
              "<table border=\"1\" class=\"dataframe\">\n",
              "  <thead>\n",
              "    <tr style=\"text-align: right;\">\n",
              "      <th></th>\n",
              "      <th>Sub-product</th>\n",
              "      <th>Consumer complaint narrative</th>\n",
              "      <th>Complaint ID</th>\n",
              "      <th>word_count</th>\n",
              "    </tr>\n",
              "  </thead>\n",
              "  <tbody>\n",
              "    <tr>\n",
              "      <th>0</th>\n",
              "      <td>Medical debt</td>\n",
              "      <td>I wrote a letter to AR Resources about a medic...</td>\n",
              "      <td>5312953</td>\n",
              "      <td>100</td>\n",
              "    </tr>\n",
              "    <tr>\n",
              "      <th>1</th>\n",
              "      <td>Medical debt</td>\n",
              "      <td>So, my wife and I have had our credit pulled t...</td>\n",
              "      <td>5303506</td>\n",
              "      <td>210</td>\n",
              "    </tr>\n",
              "    <tr>\n",
              "      <th>2</th>\n",
              "      <td>Domestic (US) money transfer</td>\n",
              "      <td>XX/XX/2022 - 4 XXXX transactions were made eac...</td>\n",
              "      <td>5405508</td>\n",
              "      <td>234</td>\n",
              "    </tr>\n",
              "    <tr>\n",
              "      <th>3</th>\n",
              "      <td>Domestic (US) money transfer</td>\n",
              "      <td>XXXX XXXX  Abuse My name is XXXX XXXX XXXX, a ...</td>\n",
              "      <td>5363397</td>\n",
              "      <td>2188</td>\n",
              "    </tr>\n",
              "    <tr>\n",
              "      <th>4</th>\n",
              "      <td>Domestic (US) money transfer</td>\n",
              "      <td>On XXXX, I sent a wire transfer in the amount ...</td>\n",
              "      <td>5349143</td>\n",
              "      <td>115</td>\n",
              "    </tr>\n",
              "  </tbody>\n",
              "</table>\n",
              "</div>\n",
              "      <button class=\"colab-df-convert\" onclick=\"convertToInteractive('df-ea38c882-80c1-48e0-993c-2d25edcf475a')\"\n",
              "              title=\"Convert this dataframe to an interactive table.\"\n",
              "              style=\"display:none;\">\n",
              "        \n",
              "  <svg xmlns=\"http://www.w3.org/2000/svg\" height=\"24px\"viewBox=\"0 0 24 24\"\n",
              "       width=\"24px\">\n",
              "    <path d=\"M0 0h24v24H0V0z\" fill=\"none\"/>\n",
              "    <path d=\"M18.56 5.44l.94 2.06.94-2.06 2.06-.94-2.06-.94-.94-2.06-.94 2.06-2.06.94zm-11 1L8.5 8.5l.94-2.06 2.06-.94-2.06-.94L8.5 2.5l-.94 2.06-2.06.94zm10 10l.94 2.06.94-2.06 2.06-.94-2.06-.94-.94-2.06-.94 2.06-2.06.94z\"/><path d=\"M17.41 7.96l-1.37-1.37c-.4-.4-.92-.59-1.43-.59-.52 0-1.04.2-1.43.59L10.3 9.45l-7.72 7.72c-.78.78-.78 2.05 0 2.83L4 21.41c.39.39.9.59 1.41.59.51 0 1.02-.2 1.41-.59l7.78-7.78 2.81-2.81c.8-.78.8-2.07 0-2.86zM5.41 20L4 18.59l7.72-7.72 1.47 1.35L5.41 20z\"/>\n",
              "  </svg>\n",
              "      </button>\n",
              "      \n",
              "  <style>\n",
              "    .colab-df-container {\n",
              "      display:flex;\n",
              "      flex-wrap:wrap;\n",
              "      gap: 12px;\n",
              "    }\n",
              "\n",
              "    .colab-df-convert {\n",
              "      background-color: #E8F0FE;\n",
              "      border: none;\n",
              "      border-radius: 50%;\n",
              "      cursor: pointer;\n",
              "      display: none;\n",
              "      fill: #1967D2;\n",
              "      height: 32px;\n",
              "      padding: 0 0 0 0;\n",
              "      width: 32px;\n",
              "    }\n",
              "\n",
              "    .colab-df-convert:hover {\n",
              "      background-color: #E2EBFA;\n",
              "      box-shadow: 0px 1px 2px rgba(60, 64, 67, 0.3), 0px 1px 3px 1px rgba(60, 64, 67, 0.15);\n",
              "      fill: #174EA6;\n",
              "    }\n",
              "\n",
              "    [theme=dark] .colab-df-convert {\n",
              "      background-color: #3B4455;\n",
              "      fill: #D2E3FC;\n",
              "    }\n",
              "\n",
              "    [theme=dark] .colab-df-convert:hover {\n",
              "      background-color: #434B5C;\n",
              "      box-shadow: 0px 1px 3px 1px rgba(0, 0, 0, 0.15);\n",
              "      filter: drop-shadow(0px 1px 2px rgba(0, 0, 0, 0.3));\n",
              "      fill: #FFFFFF;\n",
              "    }\n",
              "  </style>\n",
              "\n",
              "      <script>\n",
              "        const buttonEl =\n",
              "          document.querySelector('#df-ea38c882-80c1-48e0-993c-2d25edcf475a button.colab-df-convert');\n",
              "        buttonEl.style.display =\n",
              "          google.colab.kernel.accessAllowed ? 'block' : 'none';\n",
              "\n",
              "        async function convertToInteractive(key) {\n",
              "          const element = document.querySelector('#df-ea38c882-80c1-48e0-993c-2d25edcf475a');\n",
              "          const dataTable =\n",
              "            await google.colab.kernel.invokeFunction('convertToInteractive',\n",
              "                                                     [key], {});\n",
              "          if (!dataTable) return;\n",
              "\n",
              "          const docLinkHtml = 'Like what you see? Visit the ' +\n",
              "            '<a target=\"_blank\" href=https://colab.research.google.com/notebooks/data_table.ipynb>data table notebook</a>'\n",
              "            + ' to learn more about interactive tables.';\n",
              "          element.innerHTML = '';\n",
              "          dataTable['output_type'] = 'display_data';\n",
              "          await google.colab.output.renderOutput(dataTable, element);\n",
              "          const docLink = document.createElement('div');\n",
              "          docLink.innerHTML = docLinkHtml;\n",
              "          element.appendChild(docLink);\n",
              "        }\n",
              "      </script>\n",
              "    </div>\n",
              "  </div>\n",
              "  "
            ]
          },
          "metadata": {},
          "execution_count": 62
        }
      ]
    },
    {
      "cell_type": "code",
      "source": [
        "df.info()"
      ],
      "metadata": {
        "colab": {
          "base_uri": "https://localhost:8080/"
        },
        "id": "nDEWwwQTRuAg",
        "outputId": "edb8c4f8-b352-4fdd-8751-279d46944520"
      },
      "execution_count": 63,
      "outputs": [
        {
          "output_type": "stream",
          "name": "stdout",
          "text": [
            "<class 'pandas.core.frame.DataFrame'>\n",
            "RangeIndex: 20000 entries, 0 to 19999\n",
            "Data columns (total 4 columns):\n",
            " #   Column                        Non-Null Count  Dtype \n",
            "---  ------                        --------------  ----- \n",
            " 0   Sub-product                   20000 non-null  string\n",
            " 1   Consumer complaint narrative  20000 non-null  string\n",
            " 2   Complaint ID                  20000 non-null  int64 \n",
            " 3   word_count                    20000 non-null  int64 \n",
            "dtypes: int64(2), string(2)\n",
            "memory usage: 625.1 KB\n"
          ]
        }
      ]
    },
    {
      "cell_type": "code",
      "source": [
        "df['Sub-product'].unique()"
      ],
      "metadata": {
        "colab": {
          "base_uri": "https://localhost:8080/"
        },
        "id": "37Uw1qyk-z4d",
        "outputId": "cc17b899-6d29-42c9-a541-bb0c3f0ea212"
      },
      "execution_count": 64,
      "outputs": [
        {
          "output_type": "execute_result",
          "data": {
            "text/plain": [
              "<StringArray>\n",
              "[                'Medical debt', 'Domestic (US) money transfer',\n",
              "              'Savings account',                  'Credit card',\n",
              "                 'Vehicle loan']\n",
              "Length: 5, dtype: string"
            ]
          },
          "metadata": {},
          "execution_count": 64
        }
      ]
    },
    {
      "cell_type": "code",
      "source": [
        "df = df[df['Consumer complaint narrative'].notna()]"
      ],
      "metadata": {
        "id": "uyWrsHPnTOrX"
      },
      "execution_count": 65,
      "outputs": []
    },
    {
      "cell_type": "code",
      "source": [
        "df = df.drop(['Date received','Issue','Product','Sub-issue','Company public response','Company','State','ZIP code','Tags','Consumer consent provided?','Submitted via','Date sent to company','Company response to consumer','Timely response?','Consumer disputed?'], axis = 1)"
      ],
      "metadata": {
        "id": "BLl1K0_1VenI",
        "colab": {
          "base_uri": "https://localhost:8080/",
          "height": 360
        },
        "outputId": "4af9a5d0-8727-429b-9104-94f2c60a4d6e"
      },
      "execution_count": 66,
      "outputs": [
        {
          "output_type": "error",
          "ename": "KeyError",
          "evalue": "ignored",
          "traceback": [
            "\u001b[0;31m---------------------------------------------------------------------------\u001b[0m",
            "\u001b[0;31mKeyError\u001b[0m                                  Traceback (most recent call last)",
            "\u001b[0;32m<ipython-input-66-f4ac33b8227e>\u001b[0m in \u001b[0;36m<module>\u001b[0;34m()\u001b[0m\n\u001b[0;32m----> 1\u001b[0;31m \u001b[0mdf\u001b[0m \u001b[0;34m=\u001b[0m \u001b[0mdf\u001b[0m\u001b[0;34m.\u001b[0m\u001b[0mdrop\u001b[0m\u001b[0;34m(\u001b[0m\u001b[0;34m[\u001b[0m\u001b[0;34m'Date received'\u001b[0m\u001b[0;34m,\u001b[0m\u001b[0;34m'Issue'\u001b[0m\u001b[0;34m,\u001b[0m\u001b[0;34m'Product'\u001b[0m\u001b[0;34m,\u001b[0m\u001b[0;34m'Sub-issue'\u001b[0m\u001b[0;34m,\u001b[0m\u001b[0;34m'Company public response'\u001b[0m\u001b[0;34m,\u001b[0m\u001b[0;34m'Company'\u001b[0m\u001b[0;34m,\u001b[0m\u001b[0;34m'State'\u001b[0m\u001b[0;34m,\u001b[0m\u001b[0;34m'ZIP code'\u001b[0m\u001b[0;34m,\u001b[0m\u001b[0;34m'Tags'\u001b[0m\u001b[0;34m,\u001b[0m\u001b[0;34m'Consumer consent provided?'\u001b[0m\u001b[0;34m,\u001b[0m\u001b[0;34m'Submitted via'\u001b[0m\u001b[0;34m,\u001b[0m\u001b[0;34m'Date sent to company'\u001b[0m\u001b[0;34m,\u001b[0m\u001b[0;34m'Company response to consumer'\u001b[0m\u001b[0;34m,\u001b[0m\u001b[0;34m'Timely response?'\u001b[0m\u001b[0;34m,\u001b[0m\u001b[0;34m'Consumer disputed?'\u001b[0m\u001b[0;34m]\u001b[0m\u001b[0;34m,\u001b[0m \u001b[0maxis\u001b[0m \u001b[0;34m=\u001b[0m \u001b[0;36m1\u001b[0m\u001b[0;34m)\u001b[0m\u001b[0;34m\u001b[0m\u001b[0;34m\u001b[0m\u001b[0m\n\u001b[0m",
            "\u001b[0;32m/usr/local/lib/python3.7/dist-packages/pandas/util/_decorators.py\u001b[0m in \u001b[0;36mwrapper\u001b[0;34m(*args, **kwargs)\u001b[0m\n\u001b[1;32m    309\u001b[0m                     \u001b[0mstacklevel\u001b[0m\u001b[0;34m=\u001b[0m\u001b[0mstacklevel\u001b[0m\u001b[0;34m,\u001b[0m\u001b[0;34m\u001b[0m\u001b[0;34m\u001b[0m\u001b[0m\n\u001b[1;32m    310\u001b[0m                 )\n\u001b[0;32m--> 311\u001b[0;31m             \u001b[0;32mreturn\u001b[0m \u001b[0mfunc\u001b[0m\u001b[0;34m(\u001b[0m\u001b[0;34m*\u001b[0m\u001b[0margs\u001b[0m\u001b[0;34m,\u001b[0m \u001b[0;34m**\u001b[0m\u001b[0mkwargs\u001b[0m\u001b[0;34m)\u001b[0m\u001b[0;34m\u001b[0m\u001b[0;34m\u001b[0m\u001b[0m\n\u001b[0m\u001b[1;32m    312\u001b[0m \u001b[0;34m\u001b[0m\u001b[0m\n\u001b[1;32m    313\u001b[0m         \u001b[0;32mreturn\u001b[0m \u001b[0mwrapper\u001b[0m\u001b[0;34m\u001b[0m\u001b[0;34m\u001b[0m\u001b[0m\n",
            "\u001b[0;32m/usr/local/lib/python3.7/dist-packages/pandas/core/frame.py\u001b[0m in \u001b[0;36mdrop\u001b[0;34m(self, labels, axis, index, columns, level, inplace, errors)\u001b[0m\n\u001b[1;32m   4911\u001b[0m             \u001b[0mlevel\u001b[0m\u001b[0;34m=\u001b[0m\u001b[0mlevel\u001b[0m\u001b[0;34m,\u001b[0m\u001b[0;34m\u001b[0m\u001b[0;34m\u001b[0m\u001b[0m\n\u001b[1;32m   4912\u001b[0m             \u001b[0minplace\u001b[0m\u001b[0;34m=\u001b[0m\u001b[0minplace\u001b[0m\u001b[0;34m,\u001b[0m\u001b[0;34m\u001b[0m\u001b[0;34m\u001b[0m\u001b[0m\n\u001b[0;32m-> 4913\u001b[0;31m             \u001b[0merrors\u001b[0m\u001b[0;34m=\u001b[0m\u001b[0merrors\u001b[0m\u001b[0;34m,\u001b[0m\u001b[0;34m\u001b[0m\u001b[0;34m\u001b[0m\u001b[0m\n\u001b[0m\u001b[1;32m   4914\u001b[0m         )\n\u001b[1;32m   4915\u001b[0m \u001b[0;34m\u001b[0m\u001b[0m\n",
            "\u001b[0;32m/usr/local/lib/python3.7/dist-packages/pandas/core/generic.py\u001b[0m in \u001b[0;36mdrop\u001b[0;34m(self, labels, axis, index, columns, level, inplace, errors)\u001b[0m\n\u001b[1;32m   4148\u001b[0m         \u001b[0;32mfor\u001b[0m \u001b[0maxis\u001b[0m\u001b[0;34m,\u001b[0m \u001b[0mlabels\u001b[0m \u001b[0;32min\u001b[0m \u001b[0maxes\u001b[0m\u001b[0;34m.\u001b[0m\u001b[0mitems\u001b[0m\u001b[0;34m(\u001b[0m\u001b[0;34m)\u001b[0m\u001b[0;34m:\u001b[0m\u001b[0;34m\u001b[0m\u001b[0;34m\u001b[0m\u001b[0m\n\u001b[1;32m   4149\u001b[0m             \u001b[0;32mif\u001b[0m \u001b[0mlabels\u001b[0m \u001b[0;32mis\u001b[0m \u001b[0;32mnot\u001b[0m \u001b[0;32mNone\u001b[0m\u001b[0;34m:\u001b[0m\u001b[0;34m\u001b[0m\u001b[0;34m\u001b[0m\u001b[0m\n\u001b[0;32m-> 4150\u001b[0;31m                 \u001b[0mobj\u001b[0m \u001b[0;34m=\u001b[0m \u001b[0mobj\u001b[0m\u001b[0;34m.\u001b[0m\u001b[0m_drop_axis\u001b[0m\u001b[0;34m(\u001b[0m\u001b[0mlabels\u001b[0m\u001b[0;34m,\u001b[0m \u001b[0maxis\u001b[0m\u001b[0;34m,\u001b[0m \u001b[0mlevel\u001b[0m\u001b[0;34m=\u001b[0m\u001b[0mlevel\u001b[0m\u001b[0;34m,\u001b[0m \u001b[0merrors\u001b[0m\u001b[0;34m=\u001b[0m\u001b[0merrors\u001b[0m\u001b[0;34m)\u001b[0m\u001b[0;34m\u001b[0m\u001b[0;34m\u001b[0m\u001b[0m\n\u001b[0m\u001b[1;32m   4151\u001b[0m \u001b[0;34m\u001b[0m\u001b[0m\n\u001b[1;32m   4152\u001b[0m         \u001b[0;32mif\u001b[0m \u001b[0minplace\u001b[0m\u001b[0;34m:\u001b[0m\u001b[0;34m\u001b[0m\u001b[0;34m\u001b[0m\u001b[0m\n",
            "\u001b[0;32m/usr/local/lib/python3.7/dist-packages/pandas/core/generic.py\u001b[0m in \u001b[0;36m_drop_axis\u001b[0;34m(self, labels, axis, level, errors)\u001b[0m\n\u001b[1;32m   4183\u001b[0m                 \u001b[0mnew_axis\u001b[0m \u001b[0;34m=\u001b[0m \u001b[0maxis\u001b[0m\u001b[0;34m.\u001b[0m\u001b[0mdrop\u001b[0m\u001b[0;34m(\u001b[0m\u001b[0mlabels\u001b[0m\u001b[0;34m,\u001b[0m \u001b[0mlevel\u001b[0m\u001b[0;34m=\u001b[0m\u001b[0mlevel\u001b[0m\u001b[0;34m,\u001b[0m \u001b[0merrors\u001b[0m\u001b[0;34m=\u001b[0m\u001b[0merrors\u001b[0m\u001b[0;34m)\u001b[0m\u001b[0;34m\u001b[0m\u001b[0;34m\u001b[0m\u001b[0m\n\u001b[1;32m   4184\u001b[0m             \u001b[0;32melse\u001b[0m\u001b[0;34m:\u001b[0m\u001b[0;34m\u001b[0m\u001b[0;34m\u001b[0m\u001b[0m\n\u001b[0;32m-> 4185\u001b[0;31m                 \u001b[0mnew_axis\u001b[0m \u001b[0;34m=\u001b[0m \u001b[0maxis\u001b[0m\u001b[0;34m.\u001b[0m\u001b[0mdrop\u001b[0m\u001b[0;34m(\u001b[0m\u001b[0mlabels\u001b[0m\u001b[0;34m,\u001b[0m \u001b[0merrors\u001b[0m\u001b[0;34m=\u001b[0m\u001b[0merrors\u001b[0m\u001b[0;34m)\u001b[0m\u001b[0;34m\u001b[0m\u001b[0;34m\u001b[0m\u001b[0m\n\u001b[0m\u001b[1;32m   4186\u001b[0m             \u001b[0mresult\u001b[0m \u001b[0;34m=\u001b[0m \u001b[0mself\u001b[0m\u001b[0;34m.\u001b[0m\u001b[0mreindex\u001b[0m\u001b[0;34m(\u001b[0m\u001b[0;34m**\u001b[0m\u001b[0;34m{\u001b[0m\u001b[0maxis_name\u001b[0m\u001b[0;34m:\u001b[0m \u001b[0mnew_axis\u001b[0m\u001b[0;34m}\u001b[0m\u001b[0;34m)\u001b[0m\u001b[0;34m\u001b[0m\u001b[0;34m\u001b[0m\u001b[0m\n\u001b[1;32m   4187\u001b[0m \u001b[0;34m\u001b[0m\u001b[0m\n",
            "\u001b[0;32m/usr/local/lib/python3.7/dist-packages/pandas/core/indexes/base.py\u001b[0m in \u001b[0;36mdrop\u001b[0;34m(self, labels, errors)\u001b[0m\n\u001b[1;32m   6015\u001b[0m         \u001b[0;32mif\u001b[0m \u001b[0mmask\u001b[0m\u001b[0;34m.\u001b[0m\u001b[0many\u001b[0m\u001b[0;34m(\u001b[0m\u001b[0;34m)\u001b[0m\u001b[0;34m:\u001b[0m\u001b[0;34m\u001b[0m\u001b[0;34m\u001b[0m\u001b[0m\n\u001b[1;32m   6016\u001b[0m             \u001b[0;32mif\u001b[0m \u001b[0merrors\u001b[0m \u001b[0;34m!=\u001b[0m \u001b[0;34m\"ignore\"\u001b[0m\u001b[0;34m:\u001b[0m\u001b[0;34m\u001b[0m\u001b[0;34m\u001b[0m\u001b[0m\n\u001b[0;32m-> 6017\u001b[0;31m                 \u001b[0;32mraise\u001b[0m \u001b[0mKeyError\u001b[0m\u001b[0;34m(\u001b[0m\u001b[0;34mf\"{labels[mask]} not found in axis\"\u001b[0m\u001b[0;34m)\u001b[0m\u001b[0;34m\u001b[0m\u001b[0;34m\u001b[0m\u001b[0m\n\u001b[0m\u001b[1;32m   6018\u001b[0m             \u001b[0mindexer\u001b[0m \u001b[0;34m=\u001b[0m \u001b[0mindexer\u001b[0m\u001b[0;34m[\u001b[0m\u001b[0;34m~\u001b[0m\u001b[0mmask\u001b[0m\u001b[0;34m]\u001b[0m\u001b[0;34m\u001b[0m\u001b[0;34m\u001b[0m\u001b[0m\n\u001b[1;32m   6019\u001b[0m         \u001b[0;32mreturn\u001b[0m \u001b[0mself\u001b[0m\u001b[0;34m.\u001b[0m\u001b[0mdelete\u001b[0m\u001b[0;34m(\u001b[0m\u001b[0mindexer\u001b[0m\u001b[0;34m)\u001b[0m\u001b[0;34m\u001b[0m\u001b[0;34m\u001b[0m\u001b[0m\n",
            "\u001b[0;31mKeyError\u001b[0m: \"['Date received' 'Issue' 'Product' 'Sub-issue' 'Company public response'\\n 'Company' 'State' 'ZIP code' 'Tags' 'Consumer consent provided?'\\n 'Submitted via' 'Date sent to company' 'Company response to consumer'\\n 'Timely response?' 'Consumer disputed?'] not found in axis\""
          ]
        }
      ]
    },
    {
      "cell_type": "code",
      "source": [
        "df.info()"
      ],
      "metadata": {
        "id": "Xfxq9WH1Weck"
      },
      "execution_count": null,
      "outputs": []
    },
    {
      "cell_type": "markdown",
      "source": [
        "'Credit card','Debt collection','Student loan','Money transfers','Prepaid card','Virtual currency','Credit reporting'"
      ],
      "metadata": {
        "id": "DcAZc2Ar_3CI"
      }
    },
    {
      "cell_type": "code",
      "source": [
        "pd.set_option('display.max_rows', 75)"
      ],
      "metadata": {
        "id": "dWSoOT8mFvbm"
      },
      "execution_count": null,
      "outputs": []
    },
    {
      "cell_type": "markdown",
      "source": [
        "'Credit card debt','Domestic (US) money transfer','Conventional home mortgage','Installment loan','Medical','Mobile or digital wallet'"
      ],
      "metadata": {
        "id": "2CfeBPeYGIbI"
      }
    },
    {
      "cell_type": "code",
      "source": [
        "print (df.groupby(['Sub-product'], sort=True).size().reset_index(name='Count'))"
      ],
      "metadata": {
        "id": "zmnvV4BVcImy"
      },
      "execution_count": null,
      "outputs": []
    },
    {
      "cell_type": "code",
      "source": [
        "df = df[df['Sub-product'].isin(['Credit card','Medical debt','Vehicle loan','Domestic (US) money transfer','Savings account'])]"
      ],
      "metadata": {
        "id": "U8X6AbWzXEep"
      },
      "execution_count": 67,
      "outputs": []
    },
    {
      "cell_type": "code",
      "source": [
        "df['word_count'] = df['Consumer complaint narrative'].str.split().str.len()"
      ],
      "metadata": {
        "id": "Pqr9w1llrXPC"
      },
      "execution_count": 68,
      "outputs": []
    },
    {
      "cell_type": "code",
      "source": [
        "df = df[(df.word_count >= 10)] "
      ],
      "metadata": {
        "id": "e9BRs7b1ID8Y"
      },
      "execution_count": 69,
      "outputs": []
    },
    {
      "cell_type": "code",
      "source": [
        "df = df.drop_duplicates(subset='Consumer complaint narrative', keep=\"first\")\n"
      ],
      "metadata": {
        "id": "V9myfzpbJqOn"
      },
      "execution_count": 70,
      "outputs": []
    },
    {
      "cell_type": "code",
      "source": [
        "print(df.groupby(['Sub-product'], sort=True).size().reset_index(name='Count'))"
      ],
      "metadata": {
        "colab": {
          "base_uri": "https://localhost:8080/"
        },
        "id": "He7DTiR3_oDw",
        "outputId": "20460787-f391-4afe-dbc6-74be20d0379a"
      },
      "execution_count": 71,
      "outputs": [
        {
          "output_type": "stream",
          "name": "stdout",
          "text": [
            "                    Sub-product  Count\n",
            "0                   Credit card   4000\n",
            "1  Domestic (US) money transfer   4000\n",
            "2                  Medical debt   4000\n",
            "3               Savings account   4000\n",
            "4                  Vehicle loan   4000\n"
          ]
        }
      ]
    },
    {
      "cell_type": "code",
      "source": [
        "df.sort_values(by='word_count', ascending=True)"
      ],
      "metadata": {
        "colab": {
          "base_uri": "https://localhost:8080/",
          "height": 423
        },
        "id": "1cI2mjidFRvk",
        "outputId": "84d9412e-1d0f-4c0b-e418-362ed1f5ad92"
      },
      "execution_count": 72,
      "outputs": [
        {
          "output_type": "execute_result",
          "data": {
            "text/plain": [
              "                        Sub-product  \\\n",
              "18690                  Vehicle loan   \n",
              "18382                  Vehicle loan   \n",
              "15915                   Credit card   \n",
              "15718               Savings account   \n",
              "11654  Domestic (US) money transfer   \n",
              "...                             ...   \n",
              "3030   Domestic (US) money transfer   \n",
              "9405   Domestic (US) money transfer   \n",
              "11158               Savings account   \n",
              "11364  Domestic (US) money transfer   \n",
              "1542   Domestic (US) money transfer   \n",
              "\n",
              "                            Consumer complaint narrative  Complaint ID  \\\n",
              "18690  I did not authorize a credit inquiry from this...       2184548   \n",
              "18382            I HAVE PAID MY CAR LOAN. \n",
              "I DO N'T OWE.       1935713   \n",
              "15915  Contacted about debt that is not on my credit ...       2396526   \n",
              "15718  Wasnt able to open a checking account with Cha...       3985469   \n",
              "11654      Pnc won't let me add my bank account to XXXX.       3673990   \n",
              "...                                                  ...           ...   \n",
              "3030   On XX/XX/2019 SunTrust informed CFPB for I to ...       3383181   \n",
              "9405   I was advised by the XXXX XXXX XXXX  to reach ...       4080143   \n",
              "11158  I went to TD Bank on XX/XX/XXXX, with a very l...       3470027   \n",
              "11364  XX/XX/2019 Parties Involved Zelle XXXX XXXX XX...       3374243   \n",
              "1542   XX/XX/2019 I was a victim of rental scam on XX...       3375208   \n",
              "\n",
              "       word_count  \n",
              "18690          10  \n",
              "18382          10  \n",
              "15915          10  \n",
              "15718          10  \n",
              "11654          10  \n",
              "...           ...  \n",
              "3030         3297  \n",
              "9405         3348  \n",
              "11158        3618  \n",
              "11364        3659  \n",
              "1542         3808  \n",
              "\n",
              "[20000 rows x 4 columns]"
            ],
            "text/html": [
              "\n",
              "  <div id=\"df-2bbb495d-e8b6-4541-8f14-2a162d9f48f5\">\n",
              "    <div class=\"colab-df-container\">\n",
              "      <div>\n",
              "<style scoped>\n",
              "    .dataframe tbody tr th:only-of-type {\n",
              "        vertical-align: middle;\n",
              "    }\n",
              "\n",
              "    .dataframe tbody tr th {\n",
              "        vertical-align: top;\n",
              "    }\n",
              "\n",
              "    .dataframe thead th {\n",
              "        text-align: right;\n",
              "    }\n",
              "</style>\n",
              "<table border=\"1\" class=\"dataframe\">\n",
              "  <thead>\n",
              "    <tr style=\"text-align: right;\">\n",
              "      <th></th>\n",
              "      <th>Sub-product</th>\n",
              "      <th>Consumer complaint narrative</th>\n",
              "      <th>Complaint ID</th>\n",
              "      <th>word_count</th>\n",
              "    </tr>\n",
              "  </thead>\n",
              "  <tbody>\n",
              "    <tr>\n",
              "      <th>18690</th>\n",
              "      <td>Vehicle loan</td>\n",
              "      <td>I did not authorize a credit inquiry from this...</td>\n",
              "      <td>2184548</td>\n",
              "      <td>10</td>\n",
              "    </tr>\n",
              "    <tr>\n",
              "      <th>18382</th>\n",
              "      <td>Vehicle loan</td>\n",
              "      <td>I HAVE PAID MY CAR LOAN. \n",
              "I DO N'T OWE.</td>\n",
              "      <td>1935713</td>\n",
              "      <td>10</td>\n",
              "    </tr>\n",
              "    <tr>\n",
              "      <th>15915</th>\n",
              "      <td>Credit card</td>\n",
              "      <td>Contacted about debt that is not on my credit ...</td>\n",
              "      <td>2396526</td>\n",
              "      <td>10</td>\n",
              "    </tr>\n",
              "    <tr>\n",
              "      <th>15718</th>\n",
              "      <td>Savings account</td>\n",
              "      <td>Wasnt able to open a checking account with Cha...</td>\n",
              "      <td>3985469</td>\n",
              "      <td>10</td>\n",
              "    </tr>\n",
              "    <tr>\n",
              "      <th>11654</th>\n",
              "      <td>Domestic (US) money transfer</td>\n",
              "      <td>Pnc won't let me add my bank account to XXXX.</td>\n",
              "      <td>3673990</td>\n",
              "      <td>10</td>\n",
              "    </tr>\n",
              "    <tr>\n",
              "      <th>...</th>\n",
              "      <td>...</td>\n",
              "      <td>...</td>\n",
              "      <td>...</td>\n",
              "      <td>...</td>\n",
              "    </tr>\n",
              "    <tr>\n",
              "      <th>3030</th>\n",
              "      <td>Domestic (US) money transfer</td>\n",
              "      <td>On XX/XX/2019 SunTrust informed CFPB for I to ...</td>\n",
              "      <td>3383181</td>\n",
              "      <td>3297</td>\n",
              "    </tr>\n",
              "    <tr>\n",
              "      <th>9405</th>\n",
              "      <td>Domestic (US) money transfer</td>\n",
              "      <td>I was advised by the XXXX XXXX XXXX  to reach ...</td>\n",
              "      <td>4080143</td>\n",
              "      <td>3348</td>\n",
              "    </tr>\n",
              "    <tr>\n",
              "      <th>11158</th>\n",
              "      <td>Savings account</td>\n",
              "      <td>I went to TD Bank on XX/XX/XXXX, with a very l...</td>\n",
              "      <td>3470027</td>\n",
              "      <td>3618</td>\n",
              "    </tr>\n",
              "    <tr>\n",
              "      <th>11364</th>\n",
              "      <td>Domestic (US) money transfer</td>\n",
              "      <td>XX/XX/2019 Parties Involved Zelle XXXX XXXX XX...</td>\n",
              "      <td>3374243</td>\n",
              "      <td>3659</td>\n",
              "    </tr>\n",
              "    <tr>\n",
              "      <th>1542</th>\n",
              "      <td>Domestic (US) money transfer</td>\n",
              "      <td>XX/XX/2019 I was a victim of rental scam on XX...</td>\n",
              "      <td>3375208</td>\n",
              "      <td>3808</td>\n",
              "    </tr>\n",
              "  </tbody>\n",
              "</table>\n",
              "<p>20000 rows × 4 columns</p>\n",
              "</div>\n",
              "      <button class=\"colab-df-convert\" onclick=\"convertToInteractive('df-2bbb495d-e8b6-4541-8f14-2a162d9f48f5')\"\n",
              "              title=\"Convert this dataframe to an interactive table.\"\n",
              "              style=\"display:none;\">\n",
              "        \n",
              "  <svg xmlns=\"http://www.w3.org/2000/svg\" height=\"24px\"viewBox=\"0 0 24 24\"\n",
              "       width=\"24px\">\n",
              "    <path d=\"M0 0h24v24H0V0z\" fill=\"none\"/>\n",
              "    <path d=\"M18.56 5.44l.94 2.06.94-2.06 2.06-.94-2.06-.94-.94-2.06-.94 2.06-2.06.94zm-11 1L8.5 8.5l.94-2.06 2.06-.94-2.06-.94L8.5 2.5l-.94 2.06-2.06.94zm10 10l.94 2.06.94-2.06 2.06-.94-2.06-.94-.94-2.06-.94 2.06-2.06.94z\"/><path d=\"M17.41 7.96l-1.37-1.37c-.4-.4-.92-.59-1.43-.59-.52 0-1.04.2-1.43.59L10.3 9.45l-7.72 7.72c-.78.78-.78 2.05 0 2.83L4 21.41c.39.39.9.59 1.41.59.51 0 1.02-.2 1.41-.59l7.78-7.78 2.81-2.81c.8-.78.8-2.07 0-2.86zM5.41 20L4 18.59l7.72-7.72 1.47 1.35L5.41 20z\"/>\n",
              "  </svg>\n",
              "      </button>\n",
              "      \n",
              "  <style>\n",
              "    .colab-df-container {\n",
              "      display:flex;\n",
              "      flex-wrap:wrap;\n",
              "      gap: 12px;\n",
              "    }\n",
              "\n",
              "    .colab-df-convert {\n",
              "      background-color: #E8F0FE;\n",
              "      border: none;\n",
              "      border-radius: 50%;\n",
              "      cursor: pointer;\n",
              "      display: none;\n",
              "      fill: #1967D2;\n",
              "      height: 32px;\n",
              "      padding: 0 0 0 0;\n",
              "      width: 32px;\n",
              "    }\n",
              "\n",
              "    .colab-df-convert:hover {\n",
              "      background-color: #E2EBFA;\n",
              "      box-shadow: 0px 1px 2px rgba(60, 64, 67, 0.3), 0px 1px 3px 1px rgba(60, 64, 67, 0.15);\n",
              "      fill: #174EA6;\n",
              "    }\n",
              "\n",
              "    [theme=dark] .colab-df-convert {\n",
              "      background-color: #3B4455;\n",
              "      fill: #D2E3FC;\n",
              "    }\n",
              "\n",
              "    [theme=dark] .colab-df-convert:hover {\n",
              "      background-color: #434B5C;\n",
              "      box-shadow: 0px 1px 3px 1px rgba(0, 0, 0, 0.15);\n",
              "      filter: drop-shadow(0px 1px 2px rgba(0, 0, 0, 0.3));\n",
              "      fill: #FFFFFF;\n",
              "    }\n",
              "  </style>\n",
              "\n",
              "      <script>\n",
              "        const buttonEl =\n",
              "          document.querySelector('#df-2bbb495d-e8b6-4541-8f14-2a162d9f48f5 button.colab-df-convert');\n",
              "        buttonEl.style.display =\n",
              "          google.colab.kernel.accessAllowed ? 'block' : 'none';\n",
              "\n",
              "        async function convertToInteractive(key) {\n",
              "          const element = document.querySelector('#df-2bbb495d-e8b6-4541-8f14-2a162d9f48f5');\n",
              "          const dataTable =\n",
              "            await google.colab.kernel.invokeFunction('convertToInteractive',\n",
              "                                                     [key], {});\n",
              "          if (!dataTable) return;\n",
              "\n",
              "          const docLinkHtml = 'Like what you see? Visit the ' +\n",
              "            '<a target=\"_blank\" href=https://colab.research.google.com/notebooks/data_table.ipynb>data table notebook</a>'\n",
              "            + ' to learn more about interactive tables.';\n",
              "          element.innerHTML = '';\n",
              "          dataTable['output_type'] = 'display_data';\n",
              "          await google.colab.output.renderOutput(dataTable, element);\n",
              "          const docLink = document.createElement('div');\n",
              "          docLink.innerHTML = docLinkHtml;\n",
              "          element.appendChild(docLink);\n",
              "        }\n",
              "      </script>\n",
              "    </div>\n",
              "  </div>\n",
              "  "
            ]
          },
          "metadata": {},
          "execution_count": 72
        }
      ]
    },
    {
      "cell_type": "code",
      "source": [
        "df.info()"
      ],
      "metadata": {
        "colab": {
          "base_uri": "https://localhost:8080/"
        },
        "id": "Zbao-RYTXPfa",
        "outputId": "96d0906c-c19b-437c-c67e-948feb54d18a"
      },
      "execution_count": 73,
      "outputs": [
        {
          "output_type": "stream",
          "name": "stdout",
          "text": [
            "<class 'pandas.core.frame.DataFrame'>\n",
            "Int64Index: 20000 entries, 0 to 19999\n",
            "Data columns (total 4 columns):\n",
            " #   Column                        Non-Null Count  Dtype \n",
            "---  ------                        --------------  ----- \n",
            " 0   Sub-product                   20000 non-null  string\n",
            " 1   Consumer complaint narrative  20000 non-null  string\n",
            " 2   Complaint ID                  20000 non-null  int64 \n",
            " 3   word_count                    20000 non-null  int64 \n",
            "dtypes: int64(2), string(2)\n",
            "memory usage: 781.2 KB\n"
          ]
        }
      ]
    },
    {
      "cell_type": "code",
      "source": [
        "print (df.groupby(['Sub-product'], sort=True).size().reset_index(name='Count'))"
      ],
      "metadata": {
        "colab": {
          "base_uri": "https://localhost:8080/"
        },
        "id": "sjtKc6Y5AEw8",
        "outputId": "659ef72e-c3f8-4716-ae71-a0c02272d634"
      },
      "execution_count": 74,
      "outputs": [
        {
          "output_type": "stream",
          "name": "stdout",
          "text": [
            "                    Sub-product  Count\n",
            "0                   Credit card   4000\n",
            "1  Domestic (US) money transfer   4000\n",
            "2                  Medical debt   4000\n",
            "3               Savings account   4000\n",
            "4                  Vehicle loan   4000\n"
          ]
        }
      ]
    },
    {
      "cell_type": "code",
      "source": [
        "df['Sub-product'] = df['Sub-product'].astype('string')"
      ],
      "metadata": {
        "id": "Etk5FlO-bjEq"
      },
      "execution_count": 75,
      "outputs": []
    },
    {
      "cell_type": "code",
      "source": [
        "df['Consumer complaint narrative'] = df['Consumer complaint narrative'].astype('string')"
      ],
      "metadata": {
        "id": "JkLd6HQGrDjg"
      },
      "execution_count": 76,
      "outputs": []
    },
    {
      "cell_type": "code",
      "source": [
        "df.info()"
      ],
      "metadata": {
        "colab": {
          "base_uri": "https://localhost:8080/"
        },
        "id": "2M5-JA7rH_c0",
        "outputId": "8c460a04-99b5-4868-d177-678ad8377b5c"
      },
      "execution_count": 77,
      "outputs": [
        {
          "output_type": "stream",
          "name": "stdout",
          "text": [
            "<class 'pandas.core.frame.DataFrame'>\n",
            "Int64Index: 20000 entries, 0 to 19999\n",
            "Data columns (total 4 columns):\n",
            " #   Column                        Non-Null Count  Dtype \n",
            "---  ------                        --------------  ----- \n",
            " 0   Sub-product                   20000 non-null  string\n",
            " 1   Consumer complaint narrative  20000 non-null  string\n",
            " 2   Complaint ID                  20000 non-null  int64 \n",
            " 3   word_count                    20000 non-null  int64 \n",
            "dtypes: int64(2), string(2)\n",
            "memory usage: 781.2 KB\n"
          ]
        }
      ]
    },
    {
      "cell_type": "code",
      "source": [
        "df.groupby('Sub-product').head(3000).reset_index(drop=True)"
      ],
      "metadata": {
        "colab": {
          "base_uri": "https://localhost:8080/",
          "height": 423
        },
        "id": "Wb_BaDimx8Gc",
        "outputId": "9d3a09ac-0d54-42b4-a676-9c14ddda9205"
      },
      "execution_count": 78,
      "outputs": [
        {
          "output_type": "execute_result",
          "data": {
            "text/plain": [
              "                        Sub-product  \\\n",
              "0                      Medical debt   \n",
              "1                      Medical debt   \n",
              "2      Domestic (US) money transfer   \n",
              "3      Domestic (US) money transfer   \n",
              "4      Domestic (US) money transfer   \n",
              "...                             ...   \n",
              "14995               Savings account   \n",
              "14996               Savings account   \n",
              "14997               Savings account   \n",
              "14998               Savings account   \n",
              "14999               Savings account   \n",
              "\n",
              "                            Consumer complaint narrative  Complaint ID  \\\n",
              "0      I wrote a letter to AR Resources about a medic...       5312953   \n",
              "1      So, my wife and I have had our credit pulled t...       5303506   \n",
              "2      XX/XX/2022 - 4 XXXX transactions were made eac...       5405508   \n",
              "3      XXXX XXXX  Abuse My name is XXXX XXXX XXXX, a ...       5363397   \n",
              "4      On XXXX, I sent a wire transfer in the amount ...       5349143   \n",
              "...                                                  ...           ...   \n",
              "14995  On XXXX XXXX, 2016 I found out that CITI bank ...       1924312   \n",
              "14996  XXXX XXXX 2014 Wells Fargo Bank FINANCIAL CRIM...       1743745   \n",
              "14997  I would like Scottrade to fully and responsive...       1636961   \n",
              "14998  My CapitalOne 360 savings account was hacked. ...       2140370   \n",
              "14999  I am writing on behalf of my son. My son and I...       1636975   \n",
              "\n",
              "       word_count  \n",
              "0             100  \n",
              "1             210  \n",
              "2             234  \n",
              "3            2188  \n",
              "4             115  \n",
              "...           ...  \n",
              "14995         122  \n",
              "14996         677  \n",
              "14997          61  \n",
              "14998          71  \n",
              "14999         123  \n",
              "\n",
              "[15000 rows x 4 columns]"
            ],
            "text/html": [
              "\n",
              "  <div id=\"df-304f7084-be4c-4266-aff1-4157d682a421\">\n",
              "    <div class=\"colab-df-container\">\n",
              "      <div>\n",
              "<style scoped>\n",
              "    .dataframe tbody tr th:only-of-type {\n",
              "        vertical-align: middle;\n",
              "    }\n",
              "\n",
              "    .dataframe tbody tr th {\n",
              "        vertical-align: top;\n",
              "    }\n",
              "\n",
              "    .dataframe thead th {\n",
              "        text-align: right;\n",
              "    }\n",
              "</style>\n",
              "<table border=\"1\" class=\"dataframe\">\n",
              "  <thead>\n",
              "    <tr style=\"text-align: right;\">\n",
              "      <th></th>\n",
              "      <th>Sub-product</th>\n",
              "      <th>Consumer complaint narrative</th>\n",
              "      <th>Complaint ID</th>\n",
              "      <th>word_count</th>\n",
              "    </tr>\n",
              "  </thead>\n",
              "  <tbody>\n",
              "    <tr>\n",
              "      <th>0</th>\n",
              "      <td>Medical debt</td>\n",
              "      <td>I wrote a letter to AR Resources about a medic...</td>\n",
              "      <td>5312953</td>\n",
              "      <td>100</td>\n",
              "    </tr>\n",
              "    <tr>\n",
              "      <th>1</th>\n",
              "      <td>Medical debt</td>\n",
              "      <td>So, my wife and I have had our credit pulled t...</td>\n",
              "      <td>5303506</td>\n",
              "      <td>210</td>\n",
              "    </tr>\n",
              "    <tr>\n",
              "      <th>2</th>\n",
              "      <td>Domestic (US) money transfer</td>\n",
              "      <td>XX/XX/2022 - 4 XXXX transactions were made eac...</td>\n",
              "      <td>5405508</td>\n",
              "      <td>234</td>\n",
              "    </tr>\n",
              "    <tr>\n",
              "      <th>3</th>\n",
              "      <td>Domestic (US) money transfer</td>\n",
              "      <td>XXXX XXXX  Abuse My name is XXXX XXXX XXXX, a ...</td>\n",
              "      <td>5363397</td>\n",
              "      <td>2188</td>\n",
              "    </tr>\n",
              "    <tr>\n",
              "      <th>4</th>\n",
              "      <td>Domestic (US) money transfer</td>\n",
              "      <td>On XXXX, I sent a wire transfer in the amount ...</td>\n",
              "      <td>5349143</td>\n",
              "      <td>115</td>\n",
              "    </tr>\n",
              "    <tr>\n",
              "      <th>...</th>\n",
              "      <td>...</td>\n",
              "      <td>...</td>\n",
              "      <td>...</td>\n",
              "      <td>...</td>\n",
              "    </tr>\n",
              "    <tr>\n",
              "      <th>14995</th>\n",
              "      <td>Savings account</td>\n",
              "      <td>On XXXX XXXX, 2016 I found out that CITI bank ...</td>\n",
              "      <td>1924312</td>\n",
              "      <td>122</td>\n",
              "    </tr>\n",
              "    <tr>\n",
              "      <th>14996</th>\n",
              "      <td>Savings account</td>\n",
              "      <td>XXXX XXXX 2014 Wells Fargo Bank FINANCIAL CRIM...</td>\n",
              "      <td>1743745</td>\n",
              "      <td>677</td>\n",
              "    </tr>\n",
              "    <tr>\n",
              "      <th>14997</th>\n",
              "      <td>Savings account</td>\n",
              "      <td>I would like Scottrade to fully and responsive...</td>\n",
              "      <td>1636961</td>\n",
              "      <td>61</td>\n",
              "    </tr>\n",
              "    <tr>\n",
              "      <th>14998</th>\n",
              "      <td>Savings account</td>\n",
              "      <td>My CapitalOne 360 savings account was hacked. ...</td>\n",
              "      <td>2140370</td>\n",
              "      <td>71</td>\n",
              "    </tr>\n",
              "    <tr>\n",
              "      <th>14999</th>\n",
              "      <td>Savings account</td>\n",
              "      <td>I am writing on behalf of my son. My son and I...</td>\n",
              "      <td>1636975</td>\n",
              "      <td>123</td>\n",
              "    </tr>\n",
              "  </tbody>\n",
              "</table>\n",
              "<p>15000 rows × 4 columns</p>\n",
              "</div>\n",
              "      <button class=\"colab-df-convert\" onclick=\"convertToInteractive('df-304f7084-be4c-4266-aff1-4157d682a421')\"\n",
              "              title=\"Convert this dataframe to an interactive table.\"\n",
              "              style=\"display:none;\">\n",
              "        \n",
              "  <svg xmlns=\"http://www.w3.org/2000/svg\" height=\"24px\"viewBox=\"0 0 24 24\"\n",
              "       width=\"24px\">\n",
              "    <path d=\"M0 0h24v24H0V0z\" fill=\"none\"/>\n",
              "    <path d=\"M18.56 5.44l.94 2.06.94-2.06 2.06-.94-2.06-.94-.94-2.06-.94 2.06-2.06.94zm-11 1L8.5 8.5l.94-2.06 2.06-.94-2.06-.94L8.5 2.5l-.94 2.06-2.06.94zm10 10l.94 2.06.94-2.06 2.06-.94-2.06-.94-.94-2.06-.94 2.06-2.06.94z\"/><path d=\"M17.41 7.96l-1.37-1.37c-.4-.4-.92-.59-1.43-.59-.52 0-1.04.2-1.43.59L10.3 9.45l-7.72 7.72c-.78.78-.78 2.05 0 2.83L4 21.41c.39.39.9.59 1.41.59.51 0 1.02-.2 1.41-.59l7.78-7.78 2.81-2.81c.8-.78.8-2.07 0-2.86zM5.41 20L4 18.59l7.72-7.72 1.47 1.35L5.41 20z\"/>\n",
              "  </svg>\n",
              "      </button>\n",
              "      \n",
              "  <style>\n",
              "    .colab-df-container {\n",
              "      display:flex;\n",
              "      flex-wrap:wrap;\n",
              "      gap: 12px;\n",
              "    }\n",
              "\n",
              "    .colab-df-convert {\n",
              "      background-color: #E8F0FE;\n",
              "      border: none;\n",
              "      border-radius: 50%;\n",
              "      cursor: pointer;\n",
              "      display: none;\n",
              "      fill: #1967D2;\n",
              "      height: 32px;\n",
              "      padding: 0 0 0 0;\n",
              "      width: 32px;\n",
              "    }\n",
              "\n",
              "    .colab-df-convert:hover {\n",
              "      background-color: #E2EBFA;\n",
              "      box-shadow: 0px 1px 2px rgba(60, 64, 67, 0.3), 0px 1px 3px 1px rgba(60, 64, 67, 0.15);\n",
              "      fill: #174EA6;\n",
              "    }\n",
              "\n",
              "    [theme=dark] .colab-df-convert {\n",
              "      background-color: #3B4455;\n",
              "      fill: #D2E3FC;\n",
              "    }\n",
              "\n",
              "    [theme=dark] .colab-df-convert:hover {\n",
              "      background-color: #434B5C;\n",
              "      box-shadow: 0px 1px 3px 1px rgba(0, 0, 0, 0.15);\n",
              "      filter: drop-shadow(0px 1px 2px rgba(0, 0, 0, 0.3));\n",
              "      fill: #FFFFFF;\n",
              "    }\n",
              "  </style>\n",
              "\n",
              "      <script>\n",
              "        const buttonEl =\n",
              "          document.querySelector('#df-304f7084-be4c-4266-aff1-4157d682a421 button.colab-df-convert');\n",
              "        buttonEl.style.display =\n",
              "          google.colab.kernel.accessAllowed ? 'block' : 'none';\n",
              "\n",
              "        async function convertToInteractive(key) {\n",
              "          const element = document.querySelector('#df-304f7084-be4c-4266-aff1-4157d682a421');\n",
              "          const dataTable =\n",
              "            await google.colab.kernel.invokeFunction('convertToInteractive',\n",
              "                                                     [key], {});\n",
              "          if (!dataTable) return;\n",
              "\n",
              "          const docLinkHtml = 'Like what you see? Visit the ' +\n",
              "            '<a target=\"_blank\" href=https://colab.research.google.com/notebooks/data_table.ipynb>data table notebook</a>'\n",
              "            + ' to learn more about interactive tables.';\n",
              "          element.innerHTML = '';\n",
              "          dataTable['output_type'] = 'display_data';\n",
              "          await google.colab.output.renderOutput(dataTable, element);\n",
              "          const docLink = document.createElement('div');\n",
              "          docLink.innerHTML = docLinkHtml;\n",
              "          element.appendChild(docLink);\n",
              "        }\n",
              "      </script>\n",
              "    </div>\n",
              "  </div>\n",
              "  "
            ]
          },
          "metadata": {},
          "execution_count": 78
        }
      ]
    },
    {
      "cell_type": "code",
      "source": [
        "df.sort_values(by='word_count', ascending=True)"
      ],
      "metadata": {
        "id": "jamzjhxlCNBc",
        "colab": {
          "base_uri": "https://localhost:8080/",
          "height": 655
        },
        "outputId": "5e519720-5983-4849-c7fd-9021b872a31f"
      },
      "execution_count": 79,
      "outputs": [
        {
          "output_type": "execute_result",
          "data": {
            "text/plain": [
              "                        Sub-product  \\\n",
              "18690                  Vehicle loan   \n",
              "18382                  Vehicle loan   \n",
              "15915                   Credit card   \n",
              "15718               Savings account   \n",
              "11654  Domestic (US) money transfer   \n",
              "...                             ...   \n",
              "3030   Domestic (US) money transfer   \n",
              "9405   Domestic (US) money transfer   \n",
              "11158               Savings account   \n",
              "11364  Domestic (US) money transfer   \n",
              "1542   Domestic (US) money transfer   \n",
              "\n",
              "                            Consumer complaint narrative  Complaint ID  \\\n",
              "18690  I did not authorize a credit inquiry from this...       2184548   \n",
              "18382            I HAVE PAID MY CAR LOAN. \n",
              "I DO N'T OWE.       1935713   \n",
              "15915  Contacted about debt that is not on my credit ...       2396526   \n",
              "15718  Wasnt able to open a checking account with Cha...       3985469   \n",
              "11654      Pnc won't let me add my bank account to XXXX.       3673990   \n",
              "...                                                  ...           ...   \n",
              "3030   On XX/XX/2019 SunTrust informed CFPB for I to ...       3383181   \n",
              "9405   I was advised by the XXXX XXXX XXXX  to reach ...       4080143   \n",
              "11158  I went to TD Bank on XX/XX/XXXX, with a very l...       3470027   \n",
              "11364  XX/XX/2019 Parties Involved Zelle XXXX XXXX XX...       3374243   \n",
              "1542   XX/XX/2019 I was a victim of rental scam on XX...       3375208   \n",
              "\n",
              "       word_count  \n",
              "18690          10  \n",
              "18382          10  \n",
              "15915          10  \n",
              "15718          10  \n",
              "11654          10  \n",
              "...           ...  \n",
              "3030         3297  \n",
              "9405         3348  \n",
              "11158        3618  \n",
              "11364        3659  \n",
              "1542         3808  \n",
              "\n",
              "[20000 rows x 4 columns]"
            ],
            "text/html": [
              "\n",
              "  <div id=\"df-6868c16d-4f88-4a2a-afd8-9f5f23363abd\">\n",
              "    <div class=\"colab-df-container\">\n",
              "      <div>\n",
              "<style scoped>\n",
              "    .dataframe tbody tr th:only-of-type {\n",
              "        vertical-align: middle;\n",
              "    }\n",
              "\n",
              "    .dataframe tbody tr th {\n",
              "        vertical-align: top;\n",
              "    }\n",
              "\n",
              "    .dataframe thead th {\n",
              "        text-align: right;\n",
              "    }\n",
              "</style>\n",
              "<table border=\"1\" class=\"dataframe\">\n",
              "  <thead>\n",
              "    <tr style=\"text-align: right;\">\n",
              "      <th></th>\n",
              "      <th>Sub-product</th>\n",
              "      <th>Consumer complaint narrative</th>\n",
              "      <th>Complaint ID</th>\n",
              "      <th>word_count</th>\n",
              "    </tr>\n",
              "  </thead>\n",
              "  <tbody>\n",
              "    <tr>\n",
              "      <th>18690</th>\n",
              "      <td>Vehicle loan</td>\n",
              "      <td>I did not authorize a credit inquiry from this...</td>\n",
              "      <td>2184548</td>\n",
              "      <td>10</td>\n",
              "    </tr>\n",
              "    <tr>\n",
              "      <th>18382</th>\n",
              "      <td>Vehicle loan</td>\n",
              "      <td>I HAVE PAID MY CAR LOAN. \n",
              "I DO N'T OWE.</td>\n",
              "      <td>1935713</td>\n",
              "      <td>10</td>\n",
              "    </tr>\n",
              "    <tr>\n",
              "      <th>15915</th>\n",
              "      <td>Credit card</td>\n",
              "      <td>Contacted about debt that is not on my credit ...</td>\n",
              "      <td>2396526</td>\n",
              "      <td>10</td>\n",
              "    </tr>\n",
              "    <tr>\n",
              "      <th>15718</th>\n",
              "      <td>Savings account</td>\n",
              "      <td>Wasnt able to open a checking account with Cha...</td>\n",
              "      <td>3985469</td>\n",
              "      <td>10</td>\n",
              "    </tr>\n",
              "    <tr>\n",
              "      <th>11654</th>\n",
              "      <td>Domestic (US) money transfer</td>\n",
              "      <td>Pnc won't let me add my bank account to XXXX.</td>\n",
              "      <td>3673990</td>\n",
              "      <td>10</td>\n",
              "    </tr>\n",
              "    <tr>\n",
              "      <th>...</th>\n",
              "      <td>...</td>\n",
              "      <td>...</td>\n",
              "      <td>...</td>\n",
              "      <td>...</td>\n",
              "    </tr>\n",
              "    <tr>\n",
              "      <th>3030</th>\n",
              "      <td>Domestic (US) money transfer</td>\n",
              "      <td>On XX/XX/2019 SunTrust informed CFPB for I to ...</td>\n",
              "      <td>3383181</td>\n",
              "      <td>3297</td>\n",
              "    </tr>\n",
              "    <tr>\n",
              "      <th>9405</th>\n",
              "      <td>Domestic (US) money transfer</td>\n",
              "      <td>I was advised by the XXXX XXXX XXXX  to reach ...</td>\n",
              "      <td>4080143</td>\n",
              "      <td>3348</td>\n",
              "    </tr>\n",
              "    <tr>\n",
              "      <th>11158</th>\n",
              "      <td>Savings account</td>\n",
              "      <td>I went to TD Bank on XX/XX/XXXX, with a very l...</td>\n",
              "      <td>3470027</td>\n",
              "      <td>3618</td>\n",
              "    </tr>\n",
              "    <tr>\n",
              "      <th>11364</th>\n",
              "      <td>Domestic (US) money transfer</td>\n",
              "      <td>XX/XX/2019 Parties Involved Zelle XXXX XXXX XX...</td>\n",
              "      <td>3374243</td>\n",
              "      <td>3659</td>\n",
              "    </tr>\n",
              "    <tr>\n",
              "      <th>1542</th>\n",
              "      <td>Domestic (US) money transfer</td>\n",
              "      <td>XX/XX/2019 I was a victim of rental scam on XX...</td>\n",
              "      <td>3375208</td>\n",
              "      <td>3808</td>\n",
              "    </tr>\n",
              "  </tbody>\n",
              "</table>\n",
              "<p>20000 rows × 4 columns</p>\n",
              "</div>\n",
              "      <button class=\"colab-df-convert\" onclick=\"convertToInteractive('df-6868c16d-4f88-4a2a-afd8-9f5f23363abd')\"\n",
              "              title=\"Convert this dataframe to an interactive table.\"\n",
              "              style=\"display:none;\">\n",
              "        \n",
              "  <svg xmlns=\"http://www.w3.org/2000/svg\" height=\"24px\"viewBox=\"0 0 24 24\"\n",
              "       width=\"24px\">\n",
              "    <path d=\"M0 0h24v24H0V0z\" fill=\"none\"/>\n",
              "    <path d=\"M18.56 5.44l.94 2.06.94-2.06 2.06-.94-2.06-.94-.94-2.06-.94 2.06-2.06.94zm-11 1L8.5 8.5l.94-2.06 2.06-.94-2.06-.94L8.5 2.5l-.94 2.06-2.06.94zm10 10l.94 2.06.94-2.06 2.06-.94-2.06-.94-.94-2.06-.94 2.06-2.06.94z\"/><path d=\"M17.41 7.96l-1.37-1.37c-.4-.4-.92-.59-1.43-.59-.52 0-1.04.2-1.43.59L10.3 9.45l-7.72 7.72c-.78.78-.78 2.05 0 2.83L4 21.41c.39.39.9.59 1.41.59.51 0 1.02-.2 1.41-.59l7.78-7.78 2.81-2.81c.8-.78.8-2.07 0-2.86zM5.41 20L4 18.59l7.72-7.72 1.47 1.35L5.41 20z\"/>\n",
              "  </svg>\n",
              "      </button>\n",
              "      \n",
              "  <style>\n",
              "    .colab-df-container {\n",
              "      display:flex;\n",
              "      flex-wrap:wrap;\n",
              "      gap: 12px;\n",
              "    }\n",
              "\n",
              "    .colab-df-convert {\n",
              "      background-color: #E8F0FE;\n",
              "      border: none;\n",
              "      border-radius: 50%;\n",
              "      cursor: pointer;\n",
              "      display: none;\n",
              "      fill: #1967D2;\n",
              "      height: 32px;\n",
              "      padding: 0 0 0 0;\n",
              "      width: 32px;\n",
              "    }\n",
              "\n",
              "    .colab-df-convert:hover {\n",
              "      background-color: #E2EBFA;\n",
              "      box-shadow: 0px 1px 2px rgba(60, 64, 67, 0.3), 0px 1px 3px 1px rgba(60, 64, 67, 0.15);\n",
              "      fill: #174EA6;\n",
              "    }\n",
              "\n",
              "    [theme=dark] .colab-df-convert {\n",
              "      background-color: #3B4455;\n",
              "      fill: #D2E3FC;\n",
              "    }\n",
              "\n",
              "    [theme=dark] .colab-df-convert:hover {\n",
              "      background-color: #434B5C;\n",
              "      box-shadow: 0px 1px 3px 1px rgba(0, 0, 0, 0.15);\n",
              "      filter: drop-shadow(0px 1px 2px rgba(0, 0, 0, 0.3));\n",
              "      fill: #FFFFFF;\n",
              "    }\n",
              "  </style>\n",
              "\n",
              "      <script>\n",
              "        const buttonEl =\n",
              "          document.querySelector('#df-6868c16d-4f88-4a2a-afd8-9f5f23363abd button.colab-df-convert');\n",
              "        buttonEl.style.display =\n",
              "          google.colab.kernel.accessAllowed ? 'block' : 'none';\n",
              "\n",
              "        async function convertToInteractive(key) {\n",
              "          const element = document.querySelector('#df-6868c16d-4f88-4a2a-afd8-9f5f23363abd');\n",
              "          const dataTable =\n",
              "            await google.colab.kernel.invokeFunction('convertToInteractive',\n",
              "                                                     [key], {});\n",
              "          if (!dataTable) return;\n",
              "\n",
              "          const docLinkHtml = 'Like what you see? Visit the ' +\n",
              "            '<a target=\"_blank\" href=https://colab.research.google.com/notebooks/data_table.ipynb>data table notebook</a>'\n",
              "            + ' to learn more about interactive tables.';\n",
              "          element.innerHTML = '';\n",
              "          dataTable['output_type'] = 'display_data';\n",
              "          await google.colab.output.renderOutput(dataTable, element);\n",
              "          const docLink = document.createElement('div');\n",
              "          docLink.innerHTML = docLinkHtml;\n",
              "          element.appendChild(docLink);\n",
              "        }\n",
              "      </script>\n",
              "    </div>\n",
              "  </div>\n",
              "  "
            ]
          },
          "metadata": {},
          "execution_count": 79
        }
      ]
    },
    {
      "cell_type": "code",
      "source": [
        "df = df.groupby('Sub-product').head(4000).reset_index(drop=True)"
      ],
      "metadata": {
        "id": "lb8wRKjZCiC1"
      },
      "execution_count": 80,
      "outputs": []
    },
    {
      "cell_type": "code",
      "source": [
        "df.sort_values(by='word_count', ascending=True)"
      ],
      "metadata": {
        "colab": {
          "base_uri": "https://localhost:8080/",
          "height": 124
        },
        "id": "u4MlYxLgDCWF",
        "outputId": "ed01987c-bc0c-4c91-9d94-b5eaacc40888"
      },
      "execution_count": 81,
      "outputs": [
        {
          "output_type": "execute_result",
          "data": {
            "text/plain": [
              "                        Sub-product  \\\n",
              "18690                  Vehicle loan   \n",
              "18382                  Vehicle loan   \n",
              "15915                   Credit card   \n",
              "15718               Savings account   \n",
              "11654  Domestic (US) money transfer   \n",
              "...                             ...   \n",
              "3030   Domestic (US) money transfer   \n",
              "9405   Domestic (US) money transfer   \n",
              "11158               Savings account   \n",
              "11364  Domestic (US) money transfer   \n",
              "1542   Domestic (US) money transfer   \n",
              "\n",
              "                            Consumer complaint narrative  Complaint ID  \\\n",
              "18690  I did not authorize a credit inquiry from this...       2184548   \n",
              "18382            I HAVE PAID MY CAR LOAN. \n",
              "I DO N'T OWE.       1935713   \n",
              "15915  Contacted about debt that is not on my credit ...       2396526   \n",
              "15718  Wasnt able to open a checking account with Cha...       3985469   \n",
              "11654      Pnc won't let me add my bank account to XXXX.       3673990   \n",
              "...                                                  ...           ...   \n",
              "3030   On XX/XX/2019 SunTrust informed CFPB for I to ...       3383181   \n",
              "9405   I was advised by the XXXX XXXX XXXX  to reach ...       4080143   \n",
              "11158  I went to TD Bank on XX/XX/XXXX, with a very l...       3470027   \n",
              "11364  XX/XX/2019 Parties Involved Zelle XXXX XXXX XX...       3374243   \n",
              "1542   XX/XX/2019 I was a victim of rental scam on XX...       3375208   \n",
              "\n",
              "       word_count  \n",
              "18690          10  \n",
              "18382          10  \n",
              "15915          10  \n",
              "15718          10  \n",
              "11654          10  \n",
              "...           ...  \n",
              "3030         3297  \n",
              "9405         3348  \n",
              "11158        3618  \n",
              "11364        3659  \n",
              "1542         3808  \n",
              "\n",
              "[20000 rows x 4 columns]"
            ],
            "text/html": [
              "\n",
              "  <div id=\"df-1046ffc6-91e1-4db5-b543-1d3dca4c7ae9\">\n",
              "    <div class=\"colab-df-container\">\n",
              "      <div>\n",
              "<style scoped>\n",
              "    .dataframe tbody tr th:only-of-type {\n",
              "        vertical-align: middle;\n",
              "    }\n",
              "\n",
              "    .dataframe tbody tr th {\n",
              "        vertical-align: top;\n",
              "    }\n",
              "\n",
              "    .dataframe thead th {\n",
              "        text-align: right;\n",
              "    }\n",
              "</style>\n",
              "<table border=\"1\" class=\"dataframe\">\n",
              "  <thead>\n",
              "    <tr style=\"text-align: right;\">\n",
              "      <th></th>\n",
              "      <th>Sub-product</th>\n",
              "      <th>Consumer complaint narrative</th>\n",
              "      <th>Complaint ID</th>\n",
              "      <th>word_count</th>\n",
              "    </tr>\n",
              "  </thead>\n",
              "  <tbody>\n",
              "    <tr>\n",
              "      <th>18690</th>\n",
              "      <td>Vehicle loan</td>\n",
              "      <td>I did not authorize a credit inquiry from this...</td>\n",
              "      <td>2184548</td>\n",
              "      <td>10</td>\n",
              "    </tr>\n",
              "    <tr>\n",
              "      <th>18382</th>\n",
              "      <td>Vehicle loan</td>\n",
              "      <td>I HAVE PAID MY CAR LOAN. \n",
              "I DO N'T OWE.</td>\n",
              "      <td>1935713</td>\n",
              "      <td>10</td>\n",
              "    </tr>\n",
              "    <tr>\n",
              "      <th>15915</th>\n",
              "      <td>Credit card</td>\n",
              "      <td>Contacted about debt that is not on my credit ...</td>\n",
              "      <td>2396526</td>\n",
              "      <td>10</td>\n",
              "    </tr>\n",
              "    <tr>\n",
              "      <th>15718</th>\n",
              "      <td>Savings account</td>\n",
              "      <td>Wasnt able to open a checking account with Cha...</td>\n",
              "      <td>3985469</td>\n",
              "      <td>10</td>\n",
              "    </tr>\n",
              "    <tr>\n",
              "      <th>11654</th>\n",
              "      <td>Domestic (US) money transfer</td>\n",
              "      <td>Pnc won't let me add my bank account to XXXX.</td>\n",
              "      <td>3673990</td>\n",
              "      <td>10</td>\n",
              "    </tr>\n",
              "    <tr>\n",
              "      <th>...</th>\n",
              "      <td>...</td>\n",
              "      <td>...</td>\n",
              "      <td>...</td>\n",
              "      <td>...</td>\n",
              "    </tr>\n",
              "    <tr>\n",
              "      <th>3030</th>\n",
              "      <td>Domestic (US) money transfer</td>\n",
              "      <td>On XX/XX/2019 SunTrust informed CFPB for I to ...</td>\n",
              "      <td>3383181</td>\n",
              "      <td>3297</td>\n",
              "    </tr>\n",
              "    <tr>\n",
              "      <th>9405</th>\n",
              "      <td>Domestic (US) money transfer</td>\n",
              "      <td>I was advised by the XXXX XXXX XXXX  to reach ...</td>\n",
              "      <td>4080143</td>\n",
              "      <td>3348</td>\n",
              "    </tr>\n",
              "    <tr>\n",
              "      <th>11158</th>\n",
              "      <td>Savings account</td>\n",
              "      <td>I went to TD Bank on XX/XX/XXXX, with a very l...</td>\n",
              "      <td>3470027</td>\n",
              "      <td>3618</td>\n",
              "    </tr>\n",
              "    <tr>\n",
              "      <th>11364</th>\n",
              "      <td>Domestic (US) money transfer</td>\n",
              "      <td>XX/XX/2019 Parties Involved Zelle XXXX XXXX XX...</td>\n",
              "      <td>3374243</td>\n",
              "      <td>3659</td>\n",
              "    </tr>\n",
              "    <tr>\n",
              "      <th>1542</th>\n",
              "      <td>Domestic (US) money transfer</td>\n",
              "      <td>XX/XX/2019 I was a victim of rental scam on XX...</td>\n",
              "      <td>3375208</td>\n",
              "      <td>3808</td>\n",
              "    </tr>\n",
              "  </tbody>\n",
              "</table>\n",
              "<p>20000 rows × 4 columns</p>\n",
              "</div>\n",
              "      <button class=\"colab-df-convert\" onclick=\"convertToInteractive('df-1046ffc6-91e1-4db5-b543-1d3dca4c7ae9')\"\n",
              "              title=\"Convert this dataframe to an interactive table.\"\n",
              "              style=\"display:none;\">\n",
              "        \n",
              "  <svg xmlns=\"http://www.w3.org/2000/svg\" height=\"24px\"viewBox=\"0 0 24 24\"\n",
              "       width=\"24px\">\n",
              "    <path d=\"M0 0h24v24H0V0z\" fill=\"none\"/>\n",
              "    <path d=\"M18.56 5.44l.94 2.06.94-2.06 2.06-.94-2.06-.94-.94-2.06-.94 2.06-2.06.94zm-11 1L8.5 8.5l.94-2.06 2.06-.94-2.06-.94L8.5 2.5l-.94 2.06-2.06.94zm10 10l.94 2.06.94-2.06 2.06-.94-2.06-.94-.94-2.06-.94 2.06-2.06.94z\"/><path d=\"M17.41 7.96l-1.37-1.37c-.4-.4-.92-.59-1.43-.59-.52 0-1.04.2-1.43.59L10.3 9.45l-7.72 7.72c-.78.78-.78 2.05 0 2.83L4 21.41c.39.39.9.59 1.41.59.51 0 1.02-.2 1.41-.59l7.78-7.78 2.81-2.81c.8-.78.8-2.07 0-2.86zM5.41 20L4 18.59l7.72-7.72 1.47 1.35L5.41 20z\"/>\n",
              "  </svg>\n",
              "      </button>\n",
              "      \n",
              "  <style>\n",
              "    .colab-df-container {\n",
              "      display:flex;\n",
              "      flex-wrap:wrap;\n",
              "      gap: 12px;\n",
              "    }\n",
              "\n",
              "    .colab-df-convert {\n",
              "      background-color: #E8F0FE;\n",
              "      border: none;\n",
              "      border-radius: 50%;\n",
              "      cursor: pointer;\n",
              "      display: none;\n",
              "      fill: #1967D2;\n",
              "      height: 32px;\n",
              "      padding: 0 0 0 0;\n",
              "      width: 32px;\n",
              "    }\n",
              "\n",
              "    .colab-df-convert:hover {\n",
              "      background-color: #E2EBFA;\n",
              "      box-shadow: 0px 1px 2px rgba(60, 64, 67, 0.3), 0px 1px 3px 1px rgba(60, 64, 67, 0.15);\n",
              "      fill: #174EA6;\n",
              "    }\n",
              "\n",
              "    [theme=dark] .colab-df-convert {\n",
              "      background-color: #3B4455;\n",
              "      fill: #D2E3FC;\n",
              "    }\n",
              "\n",
              "    [theme=dark] .colab-df-convert:hover {\n",
              "      background-color: #434B5C;\n",
              "      box-shadow: 0px 1px 3px 1px rgba(0, 0, 0, 0.15);\n",
              "      filter: drop-shadow(0px 1px 2px rgba(0, 0, 0, 0.3));\n",
              "      fill: #FFFFFF;\n",
              "    }\n",
              "  </style>\n",
              "\n",
              "      <script>\n",
              "        const buttonEl =\n",
              "          document.querySelector('#df-1046ffc6-91e1-4db5-b543-1d3dca4c7ae9 button.colab-df-convert');\n",
              "        buttonEl.style.display =\n",
              "          google.colab.kernel.accessAllowed ? 'block' : 'none';\n",
              "\n",
              "        async function convertToInteractive(key) {\n",
              "          const element = document.querySelector('#df-1046ffc6-91e1-4db5-b543-1d3dca4c7ae9');\n",
              "          const dataTable =\n",
              "            await google.colab.kernel.invokeFunction('convertToInteractive',\n",
              "                                                     [key], {});\n",
              "          if (!dataTable) return;\n",
              "\n",
              "          const docLinkHtml = 'Like what you see? Visit the ' +\n",
              "            '<a target=\"_blank\" href=https://colab.research.google.com/notebooks/data_table.ipynb>data table notebook</a>'\n",
              "            + ' to learn more about interactive tables.';\n",
              "          element.innerHTML = '';\n",
              "          dataTable['output_type'] = 'display_data';\n",
              "          await google.colab.output.renderOutput(dataTable, element);\n",
              "          const docLink = document.createElement('div');\n",
              "          docLink.innerHTML = docLinkHtml;\n",
              "          element.appendChild(docLink);\n",
              "        }\n",
              "      </script>\n",
              "    </div>\n",
              "  </div>\n",
              "  "
            ]
          },
          "metadata": {},
          "execution_count": 81
        },
        {
          "output_type": "stream",
          "name": "stdout",
          "text": [
            "Error: Runtime no longer has a reference to this dataframe, please re-run this cell and try again.\n",
            "Error: Runtime no longer has a reference to this dataframe, please re-run this cell and try again.\n",
            "Error: Runtime no longer has a reference to this dataframe, please re-run this cell and try again.\n"
          ]
        }
      ]
    },
    {
      "cell_type": "code",
      "source": [
        "print(df.groupby(['Sub-product'], sort=True).size().reset_index(name='Count'))"
      ],
      "metadata": {
        "colab": {
          "base_uri": "https://localhost:8080/"
        },
        "id": "-z4GGgD8-iZP",
        "outputId": "1b668a88-8ea2-46b2-b78a-5cf6a8dbab48"
      },
      "execution_count": 82,
      "outputs": [
        {
          "output_type": "stream",
          "name": "stdout",
          "text": [
            "                    Sub-product  Count\n",
            "0                   Credit card   4000\n",
            "1  Domestic (US) money transfer   4000\n",
            "2                  Medical debt   4000\n",
            "3               Savings account   4000\n",
            "4                  Vehicle loan   4000\n"
          ]
        }
      ]
    },
    {
      "cell_type": "code",
      "source": [
        "df.rename(columns = {'Domestic (US) money transfer':'money transfer'}, inplace = True)"
      ],
      "metadata": {
        "id": "CUZ7ygVcMNaS"
      },
      "execution_count": 85,
      "outputs": []
    },
    {
      "cell_type": "code",
      "source": [
        "import numpy as np\n",
        "rng = np.random.RandomState(125)\n",
        "\n",
        "train = df.sample(frac=0.7, random_state=rng)\n",
        "test = df.loc[~df.index.isin(train.index)]\n",
        "\n",
        "train.to_csv('train.csv', sep='\\t', index=False, encoding='utf-8')\n",
        "\n",
        "test.to_csv('test.csv', sep='\\t', index=False, encoding='utf-8')"
      ],
      "metadata": {
        "id": "qd_V-qPFh65P"
      },
      "execution_count": 86,
      "outputs": []
    },
    {
      "cell_type": "markdown",
      "source": [
        ""
      ],
      "metadata": {
        "id": "N6aRFJ1l60gG"
      }
    }
  ]
}